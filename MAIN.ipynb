{
  "nbformat": 4,
  "nbformat_minor": 0,
  "metadata": {
    "colab": {
      "name": "Untitled1.ipynb",
      "provenance": []
    },
    "kernelspec": {
      "name": "python3",
      "display_name": "Python 3"
    },
    "language_info": {
      "name": "python"
    }
  },
  "cells": [
    {
      "cell_type": "code",
      "metadata": {
        "id": "z-Yw_1SQAWzo"
      },
      "source": [
        "import json\n",
        "fd=open(\"listforinventory.json\",\"w\")"
      ],
      "execution_count": 2,
      "outputs": []
    },
    {
      "cell_type": "code",
      "metadata": {
        "id": "Bwk3So0LAbKK"
      },
      "source": [
        "js = json.dumps(inven)"
      ],
      "execution_count": 3,
      "outputs": []
    },
    {
      "cell_type": "code",
      "metadata": {
        "colab": {
          "base_uri": "https://localhost:8080/"
        },
        "id": "yB76wE2oAdXg",
        "outputId": "fdf8729c-79a8-4cf6-a6ba-6d9355b16054"
      },
      "source": [
        "fd.write(js)"
      ],
      "execution_count": 4,
      "outputs": [
        {
          "output_type": "execute_result",
          "data": {
            "text/plain": [
              "2905"
            ]
          },
          "metadata": {},
          "execution_count": 4
        }
      ]
    },
    {
      "cell_type": "code",
      "metadata": {
        "colab": {
          "base_uri": "https://localhost:8080/"
        },
        "id": "0UoJ3JEoAj_p",
        "outputId": "807d3e50-350f-48ab-c076-1c3422dce579"
      },
      "source": [
        "fd.close"
      ],
      "execution_count": 5,
      "outputs": [
        {
          "output_type": "execute_result",
          "data": {
            "text/plain": [
              "<function TextIOWrapper.close>"
            ]
          },
          "metadata": {},
          "execution_count": 5
        }
      ]
    },
    {
      "cell_type": "code",
      "metadata": {
        "id": "t_OtpxB1AlmL"
      },
      "source": [
        "fd=open(\"records.json\",'w')\n",
        "fd.write(js)\n",
        "fd.close()"
      ],
      "execution_count": 6,
      "outputs": []
    },
    {
      "cell_type": "code",
      "metadata": {
        "id": "t48rFQcHAqNI"
      },
      "source": [
        "fd=open('records.json','r')\n",
        "js=fd.read()\n",
        "fd.close()"
      ],
      "execution_count": 7,
      "outputs": []
    },
    {
      "cell_type": "code",
      "metadata": {
        "colab": {
          "base_uri": "https://localhost:8080/"
        },
        "id": "bLFInnoCAtDt",
        "outputId": "d180751d-0ae2-4f96-a243-d32f556d937a"
      },
      "source": [
        "records=json.loads(js)\n",
        "records"
      ],
      "execution_count": 8,
      "outputs": [
        {
          "output_type": "execute_result",
          "data": {
            "text/plain": [
              "{'1001': {'category': 'soft drink',\n",
              "  'item': 'COCA COLA',\n",
              "  'price': 10,\n",
              "  'quantity': 10,\n",
              "  'rating': 9},\n",
              " '1002': {'category': 'soft drink',\n",
              "  'item': 'Pepsi can',\n",
              "  'price': 50,\n",
              "  'quantity': 200,\n",
              "  'rating': 7},\n",
              " '1003': {'category': 'chocolate',\n",
              "  'item': 'dairymilk',\n",
              "  'price': 60,\n",
              "  'quantity': 100,\n",
              "  'rating': 8},\n",
              " '1004': {'category': 'cake',\n",
              "  'item': 'CHOCO LAVA',\n",
              "  'price': 20,\n",
              "  'quantity': 200,\n",
              "  'rating': 9},\n",
              " '1005': {'category': 'milk product',\n",
              "  'item': 'paneer',\n",
              "  'price': 40,\n",
              "  'quantity': 20,\n",
              "  'rating': 5},\n",
              " '1006': {'category': 'chocolate',\n",
              "  'item': 'kitkat',\n",
              "  'price': 45,\n",
              "  'quantity': 200,\n",
              "  'rating': 8},\n",
              " '1007': {'category': 'drink',\n",
              "  'item': 'coke',\n",
              "  'price': 50,\n",
              "  'quantity': 600,\n",
              "  'rating': 7},\n",
              " '1008': {'category': 'chocolate',\n",
              "  'item': '5star',\n",
              "  'price': 70,\n",
              "  'quantity': 50,\n",
              "  'rating': 7},\n",
              " '1009': {'category': 'drink',\n",
              "  'item': 'limca',\n",
              "  'price': 50,\n",
              "  'quantity': 400,\n",
              "  'rating': 6},\n",
              " '1010': {'category': 'cake',\n",
              "  'item': 'blackforest',\n",
              "  'price': 40,\n",
              "  'quantity': 40,\n",
              "  'rating': 8},\n",
              " '1011': {'category': 'chocolate',\n",
              "  'item': 'crackles',\n",
              "  'price': 50,\n",
              "  'quantity': 300,\n",
              "  'rating': 9},\n",
              " '1012': {'category': 'drink',\n",
              "  'item': 'lime soda',\n",
              "  'price': 70,\n",
              "  'quantity': 20,\n",
              "  'rating': 7},\n",
              " '1013': {'category': 'chips',\n",
              "  'item': 'lays',\n",
              "  'price': 40,\n",
              "  'quantity': 20,\n",
              "  'rating': 9},\n",
              " '1014': {'category': 'chips',\n",
              "  'item': 'tooyum',\n",
              "  'price': 60,\n",
              "  'quantity': 1000,\n",
              "  'rating': 7},\n",
              " '1015': {'category': 'Stationery',\n",
              "  'item': 'pen',\n",
              "  'price': 60,\n",
              "  'quantity': 1000,\n",
              "  'rating': 9},\n",
              " '1016': {'category': 'Stationery',\n",
              "  'item': 'pencil box',\n",
              "  'price': 40,\n",
              "  'quantity': 500,\n",
              "  'rating': 6},\n",
              " '1017': {'category': 'Stationery',\n",
              "  'item': 'Register',\n",
              "  'price': 30,\n",
              "  'quantity': 200,\n",
              "  'rating': 7},\n",
              " '1018': {'category': 'Stationery',\n",
              "  'item': 'rubber',\n",
              "  'price': 60,\n",
              "  'quantity': 100,\n",
              "  'rating': 8},\n",
              " '1019': {'category': 'Stationery',\n",
              "  'item': 'Sheets',\n",
              "  'price': 70,\n",
              "  'quantity': 60,\n",
              "  'rating': 9},\n",
              " '1020': {'category': 'Stationery',\n",
              "  'item': 'Sharpner',\n",
              "  'price': 10,\n",
              "  'quantity': 100,\n",
              "  'rating': 6},\n",
              " '1021': {'category': 'chocolate',\n",
              "  'item': 'Silk',\n",
              "  'price': 60,\n",
              "  'quantity': 10,\n",
              "  'rating': 8},\n",
              " '1022': {'category': 'icecream',\n",
              "  'item': 'CHOCOBAR',\n",
              "  'price': 70,\n",
              "  'quantity': 400,\n",
              "  'rating': 9},\n",
              " '1023': {'category': 'icecream',\n",
              "  'item': 'Butter pecan',\n",
              "  'price': 100,\n",
              "  'quantity': 10,\n",
              "  'rating': 7},\n",
              " '1024': {'category': 'icecream',\n",
              "  'item': 'Chocolate chip',\n",
              "  'price': 50,\n",
              "  'quantity': 400,\n",
              "  'rating': 8},\n",
              " '1025': {'category': 'icecream',\n",
              "  'item': 'French vanilla',\n",
              "  'price': 70,\n",
              "  'quantity': 50,\n",
              "  'rating': 8},\n",
              " '1026': {'category': 'icecream',\n",
              "  'item': 'Chocolate',\n",
              "  'price': 70,\n",
              "  'quantity': 70,\n",
              "  'rating': 7},\n",
              " '1027': {'category': 'chocolate',\n",
              "  'item': 'mars',\n",
              "  'price': 100,\n",
              "  'quantity': 900,\n",
              "  'rating': 9},\n",
              " '1028': {'category': 'milk product',\n",
              "  'item': 'yoghurt',\n",
              "  'price': 60,\n",
              "  'quantity': 400,\n",
              "  'rating': 8},\n",
              " '1029': {'category': 'milk product',\n",
              "  'item': 'cheese',\n",
              "  'price': 200,\n",
              "  'quantity': 200,\n",
              "  'rating': 9},\n",
              " '1030': {'category': 'milk product',\n",
              "  'item': 'Butter',\n",
              "  'price': 50,\n",
              "  'quantity': 100,\n",
              "  'rating': 9}}"
            ]
          },
          "metadata": {},
          "execution_count": 8
        }
      ]
    },
    {
      "cell_type": "code",
      "metadata": {
        "colab": {
          "base_uri": "https://localhost:8080/"
        },
        "id": "WVde9roqAy_t",
        "outputId": "3529902d-9186-4f22-e950-f3e0e0924a99"
      },
      "source": [
        "import time\n",
        "x=\"y\"\n",
        "total=0\n",
        "while(x==\"y\" or x==\"Y\"):\n",
        "  \n",
        "  prod_id=input(\"Enter product ID :\")\n",
        "  qty=int(input(\"Enter quantity:\"))\n",
        "  if(qty<records[prod_id][\"quantity\"]):\n",
        "    \n",
        "    cust_name=input(\"Enter your Name:\")\n",
        "    print(\"product :\",records[prod_id][\"item\"])\n",
        "    print(\"price per product :\",records[prod_id][\"price\"])\n",
        "    print(\"billing amount:\",records[prod_id][\"price\"]*qty)\n",
        "    records[prod_id][\"quantity\"]=records[prod_id][\"quantity\"]-qty\n",
        "    total=records[prod_id][\"price\"]*qty+total\n",
        "    x=input(\"Enter y to continue and no for bill :\")\n",
        "  else:\n",
        "      print(\"Quantity you want is not available\")                                 \n",
        "\n",
        "print(\" Customer name:\",cust_name,\"                               Time & Date of shopping:\",time.ctime())\n",
        "print(\"                                                                                                          \")\n",
        "print(\"                                                                                                          \")\n",
        "\n",
        "print(\"     Your billing amount is \",total,\"Thankyou for shopping \")                                                                                   "
      ],
      "execution_count": 10,
      "outputs": [
        {
          "output_type": "stream",
          "name": "stdout",
          "text": [
            "Enter product ID :1005\n",
            "Enter quantity:10\n",
            "Enter your Name:Mayank singh\n",
            "product : paneer\n",
            "price per product : 40\n",
            "billing amount: 400\n",
            "Enter y to continue and no for bill :no\n",
            " Customer name: Mayank singh                                Time & Date of shopping: Mon Sep  6 12:16:42 2021\n",
            "                                                                                                          \n",
            "                                                                                                          \n",
            "     Your billing amount is  400 Thankyou for shopping \n"
          ]
        }
      ]
    },
    {
      "cell_type": "code",
      "metadata": {
        "colab": {
          "base_uri": "https://localhost:8080/"
        },
        "id": "fUwp8xmpDyLI",
        "outputId": "814c39f7-2d3e-4264-95b5-f1a4721f2349"
      },
      "source": [
        "records\n"
      ],
      "execution_count": 11,
      "outputs": [
        {
          "output_type": "execute_result",
          "data": {
            "text/plain": [
              "{'1001': {'category': 'soft drink',\n",
              "  'item': 'COCA COLA',\n",
              "  'price': 10,\n",
              "  'quantity': 10,\n",
              "  'rating': 9},\n",
              " '1002': {'category': 'soft drink',\n",
              "  'item': 'Pepsi can',\n",
              "  'price': 50,\n",
              "  'quantity': 200,\n",
              "  'rating': 7},\n",
              " '1003': {'category': 'chocolate',\n",
              "  'item': 'dairymilk',\n",
              "  'price': 60,\n",
              "  'quantity': 100,\n",
              "  'rating': 8},\n",
              " '1004': {'category': 'cake',\n",
              "  'item': 'CHOCO LAVA',\n",
              "  'price': 20,\n",
              "  'quantity': 200,\n",
              "  'rating': 9},\n",
              " '1005': {'category': 'milk product',\n",
              "  'item': 'paneer',\n",
              "  'price': 40,\n",
              "  'quantity': 10,\n",
              "  'rating': 5},\n",
              " '1006': {'category': 'chocolate',\n",
              "  'item': 'kitkat',\n",
              "  'price': 45,\n",
              "  'quantity': 200,\n",
              "  'rating': 8},\n",
              " '1007': {'category': 'drink',\n",
              "  'item': 'coke',\n",
              "  'price': 50,\n",
              "  'quantity': 600,\n",
              "  'rating': 7},\n",
              " '1008': {'category': 'chocolate',\n",
              "  'item': '5star',\n",
              "  'price': 70,\n",
              "  'quantity': 50,\n",
              "  'rating': 7},\n",
              " '1009': {'category': 'drink',\n",
              "  'item': 'limca',\n",
              "  'price': 50,\n",
              "  'quantity': 400,\n",
              "  'rating': 6},\n",
              " '1010': {'category': 'cake',\n",
              "  'item': 'blackforest',\n",
              "  'price': 40,\n",
              "  'quantity': 40,\n",
              "  'rating': 8},\n",
              " '1011': {'category': 'chocolate',\n",
              "  'item': 'crackles',\n",
              "  'price': 50,\n",
              "  'quantity': 300,\n",
              "  'rating': 9},\n",
              " '1012': {'category': 'drink',\n",
              "  'item': 'lime soda',\n",
              "  'price': 70,\n",
              "  'quantity': 15,\n",
              "  'rating': 7},\n",
              " '1013': {'category': 'chips',\n",
              "  'item': 'lays',\n",
              "  'price': 40,\n",
              "  'quantity': 20,\n",
              "  'rating': 9},\n",
              " '1014': {'category': 'chips',\n",
              "  'item': 'tooyum',\n",
              "  'price': 60,\n",
              "  'quantity': 1000,\n",
              "  'rating': 7},\n",
              " '1015': {'category': 'Stationery',\n",
              "  'item': 'pen',\n",
              "  'price': 60,\n",
              "  'quantity': 1000,\n",
              "  'rating': 9},\n",
              " '1016': {'category': 'Stationery',\n",
              "  'item': 'pencil box',\n",
              "  'price': 40,\n",
              "  'quantity': 500,\n",
              "  'rating': 6},\n",
              " '1017': {'category': 'Stationery',\n",
              "  'item': 'Register',\n",
              "  'price': 30,\n",
              "  'quantity': 200,\n",
              "  'rating': 7},\n",
              " '1018': {'category': 'Stationery',\n",
              "  'item': 'rubber',\n",
              "  'price': 60,\n",
              "  'quantity': 100,\n",
              "  'rating': 8},\n",
              " '1019': {'category': 'Stationery',\n",
              "  'item': 'Sheets',\n",
              "  'price': 70,\n",
              "  'quantity': 60,\n",
              "  'rating': 9},\n",
              " '1020': {'category': 'Stationery',\n",
              "  'item': 'Sharpner',\n",
              "  'price': 10,\n",
              "  'quantity': 100,\n",
              "  'rating': 6},\n",
              " '1021': {'category': 'chocolate',\n",
              "  'item': 'Silk',\n",
              "  'price': 60,\n",
              "  'quantity': 10,\n",
              "  'rating': 8},\n",
              " '1022': {'category': 'icecream',\n",
              "  'item': 'CHOCOBAR',\n",
              "  'price': 70,\n",
              "  'quantity': 400,\n",
              "  'rating': 9},\n",
              " '1023': {'category': 'icecream',\n",
              "  'item': 'Butter pecan',\n",
              "  'price': 100,\n",
              "  'quantity': 10,\n",
              "  'rating': 7},\n",
              " '1024': {'category': 'icecream',\n",
              "  'item': 'Chocolate chip',\n",
              "  'price': 50,\n",
              "  'quantity': 400,\n",
              "  'rating': 8},\n",
              " '1025': {'category': 'icecream',\n",
              "  'item': 'French vanilla',\n",
              "  'price': 70,\n",
              "  'quantity': 50,\n",
              "  'rating': 8},\n",
              " '1026': {'category': 'icecream',\n",
              "  'item': 'Chocolate',\n",
              "  'price': 70,\n",
              "  'quantity': 70,\n",
              "  'rating': 7},\n",
              " '1027': {'category': 'chocolate',\n",
              "  'item': 'mars',\n",
              "  'price': 100,\n",
              "  'quantity': 900,\n",
              "  'rating': 9},\n",
              " '1028': {'category': 'milk product',\n",
              "  'item': 'yoghurt',\n",
              "  'price': 60,\n",
              "  'quantity': 400,\n",
              "  'rating': 8},\n",
              " '1029': {'category': 'milk product',\n",
              "  'item': 'cheese',\n",
              "  'price': 200,\n",
              "  'quantity': 200,\n",
              "  'rating': 9},\n",
              " '1030': {'category': 'milk product',\n",
              "  'item': 'Butter',\n",
              "  'price': 50,\n",
              "  'quantity': 100,\n",
              "  'rating': 9}}"
            ]
          },
          "metadata": {},
          "execution_count": 11
        }
      ]
    }
  ]
}
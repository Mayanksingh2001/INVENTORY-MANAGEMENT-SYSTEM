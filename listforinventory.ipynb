{
  "nbformat": 4,
  "nbformat_minor": 0,
  "metadata": {
    "colab": {
      "name": "Untitled2.ipynb",
      "provenance": []
    },
    "kernelspec": {
      "name": "python3",
      "display_name": "Python 3"
    },
    "language_info": {
      "name": "python"
    }
  },
  "cells": [
    {
      "cell_type": "code",
      "metadata": {
        "id": "jhmnepThC3fP"
      },
      "source": [
        "inven={\"1001\": {\"item\": \"COCA COLA\", \"price\": 10, \"quantity\": 10, \"category\": \"soft drink\", \"rating\": 9},\n",
        "            \"1002\": {\"item\": \"Pepsi can\", \"price\": 50, \"quantity\": 200, \"category\": \"soft drink\", \"rating\": 7},\n",
        "            \"1003\": {\"item\": \"dairymilk\", \"price\": 60, \"quantity\": 100, \"category\": \"chocolate\", \"rating\": 8},\n",
        "            \"1004\": {\"item\": \"CHOCO LAVA\", \"price\": 20, \"quantity\": 200, \"category\": \"cake\", \"rating\": 9},\n",
        "            \"1005\": {\"item\": \"paneer\", \"price\": 40, \"quantity\": 20, \"category\": \"milk product\", \"rating\": 5},\n",
        "            \"1006\": {\"item\": \"kitkat\", \"price\": 45, \"quantity\": 200, \"category\": \"chocolate\", \"rating\": 8},\n",
        "            \"1007\": {\"item\": \"coke\", \"price\": 50, \"quantity\": 600, \"category\": \"drink\", \"rating\": 7},\n",
        "            \"1008\": {\"item\": \"5star\", \"price\": 70, \"quantity\": 50, \"category\": \"chocolate\", \"rating\": 7},\n",
        "            \"1009\": {\"item\": \"limca\", \"price\": 50, \"quantity\": 400, \"category\": \"drink\", \"rating\": 6},\n",
        "            \"1010\": {\"item\": \"blackforest\", \"price\": 40, \"quantity\": 40, \"category\": \"cake\", \"rating\": 8},\n",
        "            \"1011\": {\"item\": \"crackles\", \"price\": 50, \"quantity\": 300, \"category\": \"chocolate\", \"rating\": 9},\n",
        "            \"1012\": {\"item\": \"lime soda\", \"price\": 70, \"quantity\": 20, \"category\": \"drink\", \"rating\": 7},\n",
        "            \"1013\": {\"item\": \"lays\", \"price\": 40, \"quantity\": 20, \"category\": \"chips\", \"rating\": 9},\n",
        "            \"1014\": {\"item\": \"tooyum\", \"price\": 60, \"quantity\": 1000, \"category\": \"chips\", \"rating\": 7},\n",
        "            \"1015\": {\"item\": \"pen\", \"price\": 60, \"quantity\": 1000, \"category\": \"Stationery\", \"rating\": 9},\n",
        "            \"1016\": {\"item\": \"pencil box\", \"price\": 40, \"quantity\": 500, \"category\": \"Stationery\", \"rating\": 6},\n",
        "            \"1017\": {\"item\": \"Register\", \"price\": 30, \"quantity\": 200, \"category\": \"Stationery\", \"rating\": 7},\n",
        "            \"1018\": {\"item\": \"rubber\", \"price\": 60, \"quantity\": 100, \"category\": \"Stationery\", \"rating\": 8},\n",
        "            \"1019\": {\"item\": \"Sheets\", \"price\": 70, \"quantity\": 60, \"category\": \"Stationery\", \"rating\": 9},\n",
        "            \"1020\": {\"item\": \"Sharpner\", \"price\": 10, \"quantity\": 100, \"category\": \"Stationery\", \"rating\": 6},\n",
        "            \"1021\": {\"item\": \"Silk\", \"price\": 60, \"quantity\": 10, \"category\": \"chocolate\", \"rating\": 8},\n",
        "            \"1022\": {\"item\": \"CHOCOBAR\", \"price\": 70, \"quantity\": 400, \"category\": \"icecream\", \"rating\": 9},\n",
        "            \"1023\": {\"item\": \"Butter pecan\", \"price\": 100, \"quantity\": 10, \"category\": \"icecream\", \"rating\": 7},\n",
        "            \"1024\": {\"item\": \"Chocolate chip\", \"price\": 50, \"quantity\": 400, \"category\": \"icecream\", \"rating\": 8},\n",
        "            \"1025\": {\"item\": \"French vanilla\", \"price\": 70, \"quantity\": 50, \"category\": \"icecream\", \"rating\": 8},\n",
        "            \"1026\": {\"item\": \"Chocolate\", \"price\": 70, \"quantity\": 70, \"category\": \"icecream\", \"rating\": 7},\n",
        "            \"1027\": {\"item\": \"mars\", \"price\": 100, \"quantity\": 900, \"category\": \"chocolate\", \"rating\": 9},\n",
        "            \"1028\": {\"item\": \"yoghurt\", \"price\": 60, \"quantity\": 400, \"category\": \"milk product\", \"rating\": 8},\n",
        "            \"1029\": {\"item\": \"cheese\", \"price\": 200, \"quantity\": 200, \"category\": \"milk product\", \"rating\": 9},\n",
        "            \"1030\": {\"item\": \"Butter\", \"price\": 50, \"quantity\": 100, \"category\": \"milk product\", \"rating\": 9}}"
      ],
      "execution_count": 2,
      "outputs": []
    }
  ]
}